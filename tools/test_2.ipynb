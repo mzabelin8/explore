{
 "cells": [
  {
   "cell_type": "code",
   "execution_count": 1,
   "id": "40ea3e72",
   "metadata": {},
   "outputs": [],
   "source": [
    "import explore_warnings\n",
    "import typedef\n",
    "import report\n",
    "\n",
    "import pandas as pd\n",
    "import seaborn as sns\n",
    "\n",
    "import numpy as np\n",
    "from IPython.core.display import display, HTML, Markdown"
   ]
  },
  {
   "cell_type": "code",
   "execution_count": 2,
   "id": "6861db7d",
   "metadata": {},
   "outputs": [
    {
     "data": {
      "text/html": [
       "<div>\n",
       "<style scoped>\n",
       "    .dataframe tbody tr th:only-of-type {\n",
       "        vertical-align: middle;\n",
       "    }\n",
       "\n",
       "    .dataframe tbody tr th {\n",
       "        vertical-align: top;\n",
       "    }\n",
       "\n",
       "    .dataframe thead th {\n",
       "        text-align: right;\n",
       "    }\n",
       "</style>\n",
       "<table border=\"1\" class=\"dataframe\">\n",
       "  <thead>\n",
       "    <tr style=\"text-align: right;\">\n",
       "      <th></th>\n",
       "      <th>A</th>\n",
       "      <th>B</th>\n",
       "    </tr>\n",
       "  </thead>\n",
       "  <tbody>\n",
       "    <tr>\n",
       "      <th>a1</th>\n",
       "      <td>inf</td>\n",
       "      <td>0</td>\n",
       "    </tr>\n",
       "    <tr>\n",
       "      <th>a2</th>\n",
       "      <td>2</td>\n",
       "      <td>-inf</td>\n",
       "    </tr>\n",
       "    <tr>\n",
       "      <th>a3</th>\n",
       "      <td>city</td>\n",
       "      <td>0</td>\n",
       "    </tr>\n",
       "    <tr>\n",
       "      <th>a4</th>\n",
       "      <td>4</td>\n",
       "      <td>2</td>\n",
       "    </tr>\n",
       "    <tr>\n",
       "      <th>a5</th>\n",
       "      <td>None</td>\n",
       "      <td>1</td>\n",
       "    </tr>\n",
       "    <tr>\n",
       "      <th>a6</th>\n",
       "      <td>2</td>\n",
       "      <td>0</td>\n",
       "    </tr>\n",
       "    <tr>\n",
       "      <th>a7</th>\n",
       "      <td>-inf</td>\n",
       "      <td>&lt;NA&gt;</td>\n",
       "    </tr>\n",
       "    <tr>\n",
       "      <th>a8</th>\n",
       "      <td>None</td>\n",
       "      <td>4</td>\n",
       "    </tr>\n",
       "  </tbody>\n",
       "</table>\n",
       "</div>"
      ],
      "text/plain": [
       "       A     B\n",
       "a1   inf     0\n",
       "a2     2  -inf\n",
       "a3  city     0\n",
       "a4     4     2\n",
       "a5  None     1\n",
       "a6     2     0\n",
       "a7  -inf  <NA>\n",
       "a8  None     4"
      ]
     },
     "execution_count": 2,
     "metadata": {},
     "output_type": "execute_result"
    }
   ],
   "source": [
    "df = pd.DataFrame({'A' : [np.inf, 2, 'city', 4, None, 2, -np.inf, None], 'B' : [0, -np.inf, 0, 2, 1, 0, pd.NA, 4]}, \n",
    "                  index=['a1', 'a2','a3','a4','a5','a6','a7','a8'])\n",
    "df"
   ]
  },
  {
   "cell_type": "code",
   "execution_count": 3,
   "id": "9fb66b88",
   "metadata": {},
   "outputs": [
    {
     "name": "stdout",
     "output_type": "stream",
     "text": [
      "<class 'pandas.core.series.Series'>\n",
      "<class 'pandas.core.series.Series'>\n"
     ]
    },
    {
     "data": {
      "text/html": [
       "<style type=\"text/css\">\n",
       "#T_da53c_row0_col1, #T_da53c_row0_col2, #T_da53c_row1_col1, #T_da53c_row1_col2, #T_da53c_row1_col3 {\n",
       "  background: #f299a9;\n",
       "}\n",
       "#T_da53c_row0_col3, #T_da53c_row0_col4, #T_da53c_row1_col4 {\n",
       "  background: #84f08f;\n",
       "}\n",
       "</style>\n",
       "<table id=\"T_da53c\">\n",
       "  <thead>\n",
       "    <tr>\n",
       "      <th class=\"blank level0\" >&nbsp;</th>\n",
       "      <th id=\"T_da53c_level0_col0\" class=\"col_heading level0 col0\" >Types</th>\n",
       "      <th id=\"T_da53c_level0_col1\" class=\"col_heading level0 col1\" >Mis vals</th>\n",
       "      <th id=\"T_da53c_level0_col2\" class=\"col_heading level0 col2\" >Inf vals</th>\n",
       "      <th id=\"T_da53c_level0_col3\" class=\"col_heading level0 col3\" >Zero vals</th>\n",
       "      <th id=\"T_da53c_level0_col4\" class=\"col_heading level0 col4\" >Outliers</th>\n",
       "    </tr>\n",
       "  </thead>\n",
       "  <tbody>\n",
       "    <tr>\n",
       "      <th id=\"T_da53c_level0_row0\" class=\"row_heading level0 row0\" >A</th>\n",
       "      <td id=\"T_da53c_row0_col0\" class=\"data row0 col0\" >object</td>\n",
       "      <td id=\"T_da53c_row0_col1\" class=\"data row0 col1\" >2</td>\n",
       "      <td id=\"T_da53c_row0_col2\" class=\"data row0 col2\" >2</td>\n",
       "      <td id=\"T_da53c_row0_col3\" class=\"data row0 col3\" >0</td>\n",
       "      <td id=\"T_da53c_row0_col4\" class=\"data row0 col4\" >0</td>\n",
       "    </tr>\n",
       "    <tr>\n",
       "      <th id=\"T_da53c_level0_row1\" class=\"row_heading level0 row1\" >B</th>\n",
       "      <td id=\"T_da53c_row1_col0\" class=\"data row1 col0\" >object</td>\n",
       "      <td id=\"T_da53c_row1_col1\" class=\"data row1 col1\" >1</td>\n",
       "      <td id=\"T_da53c_row1_col2\" class=\"data row1 col2\" >1</td>\n",
       "      <td id=\"T_da53c_row1_col3\" class=\"data row1 col3\" >3</td>\n",
       "      <td id=\"T_da53c_row1_col4\" class=\"data row1 col4\" >0</td>\n",
       "    </tr>\n",
       "  </tbody>\n",
       "</table>\n"
      ],
      "text/plain": [
       "<pandas.io.formats.style.Styler at 0x7fdf28ba96d0>"
      ]
     },
     "execution_count": 3,
     "metadata": {},
     "output_type": "execute_result"
    }
   ],
   "source": [
    "explore_warnings.pipeline(df)"
   ]
  },
  {
   "cell_type": "code",
   "execution_count": 4,
   "id": "f69eff2b",
   "metadata": {},
   "outputs": [
    {
     "data": {
      "text/plain": [
       "A    2\n",
       "B    1\n",
       "dtype: int64"
      ]
     },
     "execution_count": 4,
     "metadata": {},
     "output_type": "execute_result"
    }
   ],
   "source": [
    "df.isna().sum()"
   ]
  },
  {
   "cell_type": "code",
   "execution_count": 5,
   "id": "8f363844",
   "metadata": {},
   "outputs": [
    {
     "data": {
      "text/html": [
       "<div>\n",
       "<style scoped>\n",
       "    .dataframe tbody tr th:only-of-type {\n",
       "        vertical-align: middle;\n",
       "    }\n",
       "\n",
       "    .dataframe tbody tr th {\n",
       "        vertical-align: top;\n",
       "    }\n",
       "\n",
       "    .dataframe thead th {\n",
       "        text-align: right;\n",
       "    }\n",
       "</style>\n",
       "<table border=\"1\" class=\"dataframe\">\n",
       "  <thead>\n",
       "    <tr style=\"text-align: right;\">\n",
       "      <th></th>\n",
       "      <th>survived</th>\n",
       "      <th>pclass</th>\n",
       "      <th>sex</th>\n",
       "      <th>age</th>\n",
       "      <th>sibsp</th>\n",
       "      <th>parch</th>\n",
       "      <th>fare</th>\n",
       "      <th>embarked</th>\n",
       "      <th>class</th>\n",
       "      <th>who</th>\n",
       "      <th>adult_male</th>\n",
       "      <th>deck</th>\n",
       "      <th>embark_town</th>\n",
       "      <th>alive</th>\n",
       "      <th>alone</th>\n",
       "    </tr>\n",
       "  </thead>\n",
       "  <tbody>\n",
       "    <tr>\n",
       "      <th>0</th>\n",
       "      <td>0</td>\n",
       "      <td>3</td>\n",
       "      <td>male</td>\n",
       "      <td>22.0</td>\n",
       "      <td>1</td>\n",
       "      <td>0</td>\n",
       "      <td>7.2500</td>\n",
       "      <td>S</td>\n",
       "      <td>Third</td>\n",
       "      <td>man</td>\n",
       "      <td>True</td>\n",
       "      <td>NaN</td>\n",
       "      <td>Southampton</td>\n",
       "      <td>no</td>\n",
       "      <td>False</td>\n",
       "    </tr>\n",
       "    <tr>\n",
       "      <th>1</th>\n",
       "      <td>1</td>\n",
       "      <td>1</td>\n",
       "      <td>female</td>\n",
       "      <td>38.0</td>\n",
       "      <td>1</td>\n",
       "      <td>0</td>\n",
       "      <td>71.2833</td>\n",
       "      <td>C</td>\n",
       "      <td>First</td>\n",
       "      <td>woman</td>\n",
       "      <td>False</td>\n",
       "      <td>C</td>\n",
       "      <td>Cherbourg</td>\n",
       "      <td>yes</td>\n",
       "      <td>False</td>\n",
       "    </tr>\n",
       "    <tr>\n",
       "      <th>2</th>\n",
       "      <td>1</td>\n",
       "      <td>3</td>\n",
       "      <td>female</td>\n",
       "      <td>26.0</td>\n",
       "      <td>0</td>\n",
       "      <td>0</td>\n",
       "      <td>7.9250</td>\n",
       "      <td>S</td>\n",
       "      <td>Third</td>\n",
       "      <td>woman</td>\n",
       "      <td>False</td>\n",
       "      <td>NaN</td>\n",
       "      <td>Southampton</td>\n",
       "      <td>yes</td>\n",
       "      <td>True</td>\n",
       "    </tr>\n",
       "    <tr>\n",
       "      <th>3</th>\n",
       "      <td>1</td>\n",
       "      <td>1</td>\n",
       "      <td>female</td>\n",
       "      <td>35.0</td>\n",
       "      <td>1</td>\n",
       "      <td>0</td>\n",
       "      <td>53.1000</td>\n",
       "      <td>S</td>\n",
       "      <td>First</td>\n",
       "      <td>woman</td>\n",
       "      <td>False</td>\n",
       "      <td>C</td>\n",
       "      <td>Southampton</td>\n",
       "      <td>yes</td>\n",
       "      <td>False</td>\n",
       "    </tr>\n",
       "    <tr>\n",
       "      <th>4</th>\n",
       "      <td>0</td>\n",
       "      <td>3</td>\n",
       "      <td>male</td>\n",
       "      <td>35.0</td>\n",
       "      <td>0</td>\n",
       "      <td>0</td>\n",
       "      <td>8.0500</td>\n",
       "      <td>S</td>\n",
       "      <td>Third</td>\n",
       "      <td>man</td>\n",
       "      <td>True</td>\n",
       "      <td>NaN</td>\n",
       "      <td>Southampton</td>\n",
       "      <td>no</td>\n",
       "      <td>True</td>\n",
       "    </tr>\n",
       "    <tr>\n",
       "      <th>...</th>\n",
       "      <td>...</td>\n",
       "      <td>...</td>\n",
       "      <td>...</td>\n",
       "      <td>...</td>\n",
       "      <td>...</td>\n",
       "      <td>...</td>\n",
       "      <td>...</td>\n",
       "      <td>...</td>\n",
       "      <td>...</td>\n",
       "      <td>...</td>\n",
       "      <td>...</td>\n",
       "      <td>...</td>\n",
       "      <td>...</td>\n",
       "      <td>...</td>\n",
       "      <td>...</td>\n",
       "    </tr>\n",
       "    <tr>\n",
       "      <th>886</th>\n",
       "      <td>0</td>\n",
       "      <td>2</td>\n",
       "      <td>male</td>\n",
       "      <td>27.0</td>\n",
       "      <td>0</td>\n",
       "      <td>0</td>\n",
       "      <td>13.0000</td>\n",
       "      <td>S</td>\n",
       "      <td>Second</td>\n",
       "      <td>man</td>\n",
       "      <td>True</td>\n",
       "      <td>NaN</td>\n",
       "      <td>Southampton</td>\n",
       "      <td>no</td>\n",
       "      <td>True</td>\n",
       "    </tr>\n",
       "    <tr>\n",
       "      <th>887</th>\n",
       "      <td>1</td>\n",
       "      <td>1</td>\n",
       "      <td>female</td>\n",
       "      <td>19.0</td>\n",
       "      <td>0</td>\n",
       "      <td>0</td>\n",
       "      <td>30.0000</td>\n",
       "      <td>S</td>\n",
       "      <td>First</td>\n",
       "      <td>woman</td>\n",
       "      <td>False</td>\n",
       "      <td>B</td>\n",
       "      <td>Southampton</td>\n",
       "      <td>yes</td>\n",
       "      <td>True</td>\n",
       "    </tr>\n",
       "    <tr>\n",
       "      <th>888</th>\n",
       "      <td>0</td>\n",
       "      <td>3</td>\n",
       "      <td>female</td>\n",
       "      <td>NaN</td>\n",
       "      <td>1</td>\n",
       "      <td>2</td>\n",
       "      <td>23.4500</td>\n",
       "      <td>S</td>\n",
       "      <td>Third</td>\n",
       "      <td>woman</td>\n",
       "      <td>False</td>\n",
       "      <td>NaN</td>\n",
       "      <td>Southampton</td>\n",
       "      <td>no</td>\n",
       "      <td>False</td>\n",
       "    </tr>\n",
       "    <tr>\n",
       "      <th>889</th>\n",
       "      <td>1</td>\n",
       "      <td>1</td>\n",
       "      <td>male</td>\n",
       "      <td>26.0</td>\n",
       "      <td>0</td>\n",
       "      <td>0</td>\n",
       "      <td>30.0000</td>\n",
       "      <td>C</td>\n",
       "      <td>First</td>\n",
       "      <td>man</td>\n",
       "      <td>True</td>\n",
       "      <td>C</td>\n",
       "      <td>Cherbourg</td>\n",
       "      <td>yes</td>\n",
       "      <td>True</td>\n",
       "    </tr>\n",
       "    <tr>\n",
       "      <th>890</th>\n",
       "      <td>0</td>\n",
       "      <td>3</td>\n",
       "      <td>male</td>\n",
       "      <td>32.0</td>\n",
       "      <td>0</td>\n",
       "      <td>0</td>\n",
       "      <td>7.7500</td>\n",
       "      <td>Q</td>\n",
       "      <td>Third</td>\n",
       "      <td>man</td>\n",
       "      <td>True</td>\n",
       "      <td>NaN</td>\n",
       "      <td>Queenstown</td>\n",
       "      <td>no</td>\n",
       "      <td>True</td>\n",
       "    </tr>\n",
       "  </tbody>\n",
       "</table>\n",
       "<p>891 rows × 15 columns</p>\n",
       "</div>"
      ],
      "text/plain": [
       "     survived  pclass     sex   age  sibsp  parch     fare embarked   class  \\\n",
       "0           0       3    male  22.0      1      0   7.2500        S   Third   \n",
       "1           1       1  female  38.0      1      0  71.2833        C   First   \n",
       "2           1       3  female  26.0      0      0   7.9250        S   Third   \n",
       "3           1       1  female  35.0      1      0  53.1000        S   First   \n",
       "4           0       3    male  35.0      0      0   8.0500        S   Third   \n",
       "..        ...     ...     ...   ...    ...    ...      ...      ...     ...   \n",
       "886         0       2    male  27.0      0      0  13.0000        S  Second   \n",
       "887         1       1  female  19.0      0      0  30.0000        S   First   \n",
       "888         0       3  female   NaN      1      2  23.4500        S   Third   \n",
       "889         1       1    male  26.0      0      0  30.0000        C   First   \n",
       "890         0       3    male  32.0      0      0   7.7500        Q   Third   \n",
       "\n",
       "       who  adult_male deck  embark_town alive  alone  \n",
       "0      man        True  NaN  Southampton    no  False  \n",
       "1    woman       False    C    Cherbourg   yes  False  \n",
       "2    woman       False  NaN  Southampton   yes   True  \n",
       "3    woman       False    C  Southampton   yes  False  \n",
       "4      man        True  NaN  Southampton    no   True  \n",
       "..     ...         ...  ...          ...   ...    ...  \n",
       "886    man        True  NaN  Southampton    no   True  \n",
       "887  woman       False    B  Southampton   yes   True  \n",
       "888  woman       False  NaN  Southampton    no  False  \n",
       "889    man        True    C    Cherbourg   yes   True  \n",
       "890    man        True  NaN   Queenstown    no   True  \n",
       "\n",
       "[891 rows x 15 columns]"
      ]
     },
     "execution_count": 5,
     "metadata": {},
     "output_type": "execute_result"
    }
   ],
   "source": [
    "data = sns.load_dataset('titanic')\n",
    "data"
   ]
  },
  {
   "cell_type": "code",
   "execution_count": 6,
   "id": "614be37b",
   "metadata": {},
   "outputs": [
    {
     "name": "stdout",
     "output_type": "stream",
     "text": [
      "<class 'pandas.core.series.Series'>\n",
      "<class 'pandas.core.series.Series'>\n"
     ]
    },
    {
     "data": {
      "text/html": [
       "<style type=\"text/css\">\n",
       "#T_07f6c_row0_col1, #T_07f6c_row0_col2, #T_07f6c_row0_col4, #T_07f6c_row1_col1, #T_07f6c_row1_col2, #T_07f6c_row1_col3, #T_07f6c_row1_col4, #T_07f6c_row2_col1, #T_07f6c_row2_col2, #T_07f6c_row2_col3, #T_07f6c_row2_col4, #T_07f6c_row3_col2, #T_07f6c_row3_col3, #T_07f6c_row4_col1, #T_07f6c_row4_col2, #T_07f6c_row5_col1, #T_07f6c_row5_col2, #T_07f6c_row6_col1, #T_07f6c_row6_col2, #T_07f6c_row7_col2, #T_07f6c_row7_col3, #T_07f6c_row7_col4, #T_07f6c_row8_col1, #T_07f6c_row8_col2, #T_07f6c_row8_col3, #T_07f6c_row8_col4, #T_07f6c_row9_col1, #T_07f6c_row9_col2, #T_07f6c_row9_col3, #T_07f6c_row9_col4, #T_07f6c_row10_col1, #T_07f6c_row10_col2, #T_07f6c_row10_col4, #T_07f6c_row11_col2, #T_07f6c_row11_col3, #T_07f6c_row11_col4, #T_07f6c_row12_col2, #T_07f6c_row12_col3, #T_07f6c_row12_col4, #T_07f6c_row13_col1, #T_07f6c_row13_col2, #T_07f6c_row13_col3, #T_07f6c_row13_col4, #T_07f6c_row14_col1, #T_07f6c_row14_col2, #T_07f6c_row14_col4 {\n",
       "  background: #84f08f;\n",
       "}\n",
       "#T_07f6c_row0_col3, #T_07f6c_row3_col1, #T_07f6c_row3_col4, #T_07f6c_row4_col3, #T_07f6c_row4_col4, #T_07f6c_row5_col3, #T_07f6c_row5_col4, #T_07f6c_row6_col3, #T_07f6c_row6_col4, #T_07f6c_row7_col1, #T_07f6c_row10_col3, #T_07f6c_row11_col1, #T_07f6c_row12_col1, #T_07f6c_row14_col3 {\n",
       "  background: #f299a9;\n",
       "}\n",
       "</style>\n",
       "<table id=\"T_07f6c\">\n",
       "  <thead>\n",
       "    <tr>\n",
       "      <th class=\"blank level0\" >&nbsp;</th>\n",
       "      <th id=\"T_07f6c_level0_col0\" class=\"col_heading level0 col0\" >Types</th>\n",
       "      <th id=\"T_07f6c_level0_col1\" class=\"col_heading level0 col1\" >Mis vals</th>\n",
       "      <th id=\"T_07f6c_level0_col2\" class=\"col_heading level0 col2\" >Inf vals</th>\n",
       "      <th id=\"T_07f6c_level0_col3\" class=\"col_heading level0 col3\" >Zero vals</th>\n",
       "      <th id=\"T_07f6c_level0_col4\" class=\"col_heading level0 col4\" >Outliers</th>\n",
       "    </tr>\n",
       "  </thead>\n",
       "  <tbody>\n",
       "    <tr>\n",
       "      <th id=\"T_07f6c_level0_row0\" class=\"row_heading level0 row0\" >survived</th>\n",
       "      <td id=\"T_07f6c_row0_col0\" class=\"data row0 col0\" >int64</td>\n",
       "      <td id=\"T_07f6c_row0_col1\" class=\"data row0 col1\" >0</td>\n",
       "      <td id=\"T_07f6c_row0_col2\" class=\"data row0 col2\" >0</td>\n",
       "      <td id=\"T_07f6c_row0_col3\" class=\"data row0 col3\" >549</td>\n",
       "      <td id=\"T_07f6c_row0_col4\" class=\"data row0 col4\" >0</td>\n",
       "    </tr>\n",
       "    <tr>\n",
       "      <th id=\"T_07f6c_level0_row1\" class=\"row_heading level0 row1\" >pclass</th>\n",
       "      <td id=\"T_07f6c_row1_col0\" class=\"data row1 col0\" >int64</td>\n",
       "      <td id=\"T_07f6c_row1_col1\" class=\"data row1 col1\" >0</td>\n",
       "      <td id=\"T_07f6c_row1_col2\" class=\"data row1 col2\" >0</td>\n",
       "      <td id=\"T_07f6c_row1_col3\" class=\"data row1 col3\" >0</td>\n",
       "      <td id=\"T_07f6c_row1_col4\" class=\"data row1 col4\" >0</td>\n",
       "    </tr>\n",
       "    <tr>\n",
       "      <th id=\"T_07f6c_level0_row2\" class=\"row_heading level0 row2\" >sex</th>\n",
       "      <td id=\"T_07f6c_row2_col0\" class=\"data row2 col0\" >object</td>\n",
       "      <td id=\"T_07f6c_row2_col1\" class=\"data row2 col1\" >0</td>\n",
       "      <td id=\"T_07f6c_row2_col2\" class=\"data row2 col2\" >0</td>\n",
       "      <td id=\"T_07f6c_row2_col3\" class=\"data row2 col3\" >0</td>\n",
       "      <td id=\"T_07f6c_row2_col4\" class=\"data row2 col4\" >0</td>\n",
       "    </tr>\n",
       "    <tr>\n",
       "      <th id=\"T_07f6c_level0_row3\" class=\"row_heading level0 row3\" >age</th>\n",
       "      <td id=\"T_07f6c_row3_col0\" class=\"data row3 col0\" >float64</td>\n",
       "      <td id=\"T_07f6c_row3_col1\" class=\"data row3 col1\" >177</td>\n",
       "      <td id=\"T_07f6c_row3_col2\" class=\"data row3 col2\" >0</td>\n",
       "      <td id=\"T_07f6c_row3_col3\" class=\"data row3 col3\" >0</td>\n",
       "      <td id=\"T_07f6c_row3_col4\" class=\"data row3 col4\" >8</td>\n",
       "    </tr>\n",
       "    <tr>\n",
       "      <th id=\"T_07f6c_level0_row4\" class=\"row_heading level0 row4\" >sibsp</th>\n",
       "      <td id=\"T_07f6c_row4_col0\" class=\"data row4 col0\" >int64</td>\n",
       "      <td id=\"T_07f6c_row4_col1\" class=\"data row4 col1\" >0</td>\n",
       "      <td id=\"T_07f6c_row4_col2\" class=\"data row4 col2\" >0</td>\n",
       "      <td id=\"T_07f6c_row4_col3\" class=\"data row4 col3\" >608</td>\n",
       "      <td id=\"T_07f6c_row4_col4\" class=\"data row4 col4\" >7</td>\n",
       "    </tr>\n",
       "    <tr>\n",
       "      <th id=\"T_07f6c_level0_row5\" class=\"row_heading level0 row5\" >parch</th>\n",
       "      <td id=\"T_07f6c_row5_col0\" class=\"data row5 col0\" >int64</td>\n",
       "      <td id=\"T_07f6c_row5_col1\" class=\"data row5 col1\" >0</td>\n",
       "      <td id=\"T_07f6c_row5_col2\" class=\"data row5 col2\" >0</td>\n",
       "      <td id=\"T_07f6c_row5_col3\" class=\"data row5 col3\" >678</td>\n",
       "      <td id=\"T_07f6c_row5_col4\" class=\"data row5 col4\" >6</td>\n",
       "    </tr>\n",
       "    <tr>\n",
       "      <th id=\"T_07f6c_level0_row6\" class=\"row_heading level0 row6\" >fare</th>\n",
       "      <td id=\"T_07f6c_row6_col0\" class=\"data row6 col0\" >float64</td>\n",
       "      <td id=\"T_07f6c_row6_col1\" class=\"data row6 col1\" >0</td>\n",
       "      <td id=\"T_07f6c_row6_col2\" class=\"data row6 col2\" >0</td>\n",
       "      <td id=\"T_07f6c_row6_col3\" class=\"data row6 col3\" >15</td>\n",
       "      <td id=\"T_07f6c_row6_col4\" class=\"data row6 col4\" >9</td>\n",
       "    </tr>\n",
       "    <tr>\n",
       "      <th id=\"T_07f6c_level0_row7\" class=\"row_heading level0 row7\" >embarked</th>\n",
       "      <td id=\"T_07f6c_row7_col0\" class=\"data row7 col0\" >object</td>\n",
       "      <td id=\"T_07f6c_row7_col1\" class=\"data row7 col1\" >2</td>\n",
       "      <td id=\"T_07f6c_row7_col2\" class=\"data row7 col2\" >0</td>\n",
       "      <td id=\"T_07f6c_row7_col3\" class=\"data row7 col3\" >0</td>\n",
       "      <td id=\"T_07f6c_row7_col4\" class=\"data row7 col4\" >0</td>\n",
       "    </tr>\n",
       "    <tr>\n",
       "      <th id=\"T_07f6c_level0_row8\" class=\"row_heading level0 row8\" >class</th>\n",
       "      <td id=\"T_07f6c_row8_col0\" class=\"data row8 col0\" >category</td>\n",
       "      <td id=\"T_07f6c_row8_col1\" class=\"data row8 col1\" >0</td>\n",
       "      <td id=\"T_07f6c_row8_col2\" class=\"data row8 col2\" >0</td>\n",
       "      <td id=\"T_07f6c_row8_col3\" class=\"data row8 col3\" >0</td>\n",
       "      <td id=\"T_07f6c_row8_col4\" class=\"data row8 col4\" >0</td>\n",
       "    </tr>\n",
       "    <tr>\n",
       "      <th id=\"T_07f6c_level0_row9\" class=\"row_heading level0 row9\" >who</th>\n",
       "      <td id=\"T_07f6c_row9_col0\" class=\"data row9 col0\" >object</td>\n",
       "      <td id=\"T_07f6c_row9_col1\" class=\"data row9 col1\" >0</td>\n",
       "      <td id=\"T_07f6c_row9_col2\" class=\"data row9 col2\" >0</td>\n",
       "      <td id=\"T_07f6c_row9_col3\" class=\"data row9 col3\" >0</td>\n",
       "      <td id=\"T_07f6c_row9_col4\" class=\"data row9 col4\" >0</td>\n",
       "    </tr>\n",
       "    <tr>\n",
       "      <th id=\"T_07f6c_level0_row10\" class=\"row_heading level0 row10\" >adult_male</th>\n",
       "      <td id=\"T_07f6c_row10_col0\" class=\"data row10 col0\" >bool</td>\n",
       "      <td id=\"T_07f6c_row10_col1\" class=\"data row10 col1\" >0</td>\n",
       "      <td id=\"T_07f6c_row10_col2\" class=\"data row10 col2\" >0</td>\n",
       "      <td id=\"T_07f6c_row10_col3\" class=\"data row10 col3\" >354</td>\n",
       "      <td id=\"T_07f6c_row10_col4\" class=\"data row10 col4\" >0</td>\n",
       "    </tr>\n",
       "    <tr>\n",
       "      <th id=\"T_07f6c_level0_row11\" class=\"row_heading level0 row11\" >deck</th>\n",
       "      <td id=\"T_07f6c_row11_col0\" class=\"data row11 col0\" >category</td>\n",
       "      <td id=\"T_07f6c_row11_col1\" class=\"data row11 col1\" >688</td>\n",
       "      <td id=\"T_07f6c_row11_col2\" class=\"data row11 col2\" >0</td>\n",
       "      <td id=\"T_07f6c_row11_col3\" class=\"data row11 col3\" >0</td>\n",
       "      <td id=\"T_07f6c_row11_col4\" class=\"data row11 col4\" >0</td>\n",
       "    </tr>\n",
       "    <tr>\n",
       "      <th id=\"T_07f6c_level0_row12\" class=\"row_heading level0 row12\" >embark_town</th>\n",
       "      <td id=\"T_07f6c_row12_col0\" class=\"data row12 col0\" >object</td>\n",
       "      <td id=\"T_07f6c_row12_col1\" class=\"data row12 col1\" >2</td>\n",
       "      <td id=\"T_07f6c_row12_col2\" class=\"data row12 col2\" >0</td>\n",
       "      <td id=\"T_07f6c_row12_col3\" class=\"data row12 col3\" >0</td>\n",
       "      <td id=\"T_07f6c_row12_col4\" class=\"data row12 col4\" >0</td>\n",
       "    </tr>\n",
       "    <tr>\n",
       "      <th id=\"T_07f6c_level0_row13\" class=\"row_heading level0 row13\" >alive</th>\n",
       "      <td id=\"T_07f6c_row13_col0\" class=\"data row13 col0\" >object</td>\n",
       "      <td id=\"T_07f6c_row13_col1\" class=\"data row13 col1\" >0</td>\n",
       "      <td id=\"T_07f6c_row13_col2\" class=\"data row13 col2\" >0</td>\n",
       "      <td id=\"T_07f6c_row13_col3\" class=\"data row13 col3\" >0</td>\n",
       "      <td id=\"T_07f6c_row13_col4\" class=\"data row13 col4\" >0</td>\n",
       "    </tr>\n",
       "    <tr>\n",
       "      <th id=\"T_07f6c_level0_row14\" class=\"row_heading level0 row14\" >alone</th>\n",
       "      <td id=\"T_07f6c_row14_col0\" class=\"data row14 col0\" >bool</td>\n",
       "      <td id=\"T_07f6c_row14_col1\" class=\"data row14 col1\" >0</td>\n",
       "      <td id=\"T_07f6c_row14_col2\" class=\"data row14 col2\" >0</td>\n",
       "      <td id=\"T_07f6c_row14_col3\" class=\"data row14 col3\" >354</td>\n",
       "      <td id=\"T_07f6c_row14_col4\" class=\"data row14 col4\" >0</td>\n",
       "    </tr>\n",
       "  </tbody>\n",
       "</table>\n"
      ],
      "text/plain": [
       "<pandas.io.formats.style.Styler at 0x7fdf0911e0a0>"
      ]
     },
     "execution_count": 6,
     "metadata": {},
     "output_type": "execute_result"
    }
   ],
   "source": [
    "explore_warnings.pipeline(data)"
   ]
  },
  {
   "cell_type": "code",
   "execution_count": 7,
   "id": "64846c98",
   "metadata": {},
   "outputs": [
    {
     "data": {
      "text/plain": [
       "RangeIndex(start=0, stop=891, step=1)"
      ]
     },
     "execution_count": 7,
     "metadata": {},
     "output_type": "execute_result"
    }
   ],
   "source": [
    "data.index"
   ]
  },
  {
   "cell_type": "code",
   "execution_count": 8,
   "id": "a2fa9d91",
   "metadata": {},
   "outputs": [],
   "source": [
    "q = data.fare.quantile(0.95)"
   ]
  },
  {
   "cell_type": "code",
   "execution_count": 9,
   "id": "49eb83c4",
   "metadata": {},
   "outputs": [
    {
     "data": {
      "text/plain": [
       "45"
      ]
     },
     "execution_count": 9,
     "metadata": {},
     "output_type": "execute_result"
    }
   ],
   "source": [
    "(data.fare > q).sum()"
   ]
  },
  {
   "cell_type": "code",
   "execution_count": 10,
   "id": "3b352dbb",
   "metadata": {},
   "outputs": [
    {
     "data": {
      "text/plain": [
       "0      0\n",
       "1      1\n",
       "2      1\n",
       "3      1\n",
       "4      0\n",
       "      ..\n",
       "886    0\n",
       "887    1\n",
       "888    0\n",
       "889    1\n",
       "890    0\n",
       "Name: survived, Length: 891, dtype: int64"
      ]
     },
     "metadata": {},
     "output_type": "display_data"
    },
    {
     "data": {
      "text/plain": [
       "0      3\n",
       "1      1\n",
       "2      3\n",
       "3      1\n",
       "4      3\n",
       "      ..\n",
       "886    2\n",
       "887    1\n",
       "888    3\n",
       "889    1\n",
       "890    3\n",
       "Name: pclass, Length: 891, dtype: int64"
      ]
     },
     "metadata": {},
     "output_type": "display_data"
    },
    {
     "data": {
      "text/plain": [
       "0        male\n",
       "1      female\n",
       "2      female\n",
       "3      female\n",
       "4        male\n",
       "        ...  \n",
       "886      male\n",
       "887    female\n",
       "888    female\n",
       "889      male\n",
       "890      male\n",
       "Name: sex, Length: 891, dtype: object"
      ]
     },
     "metadata": {},
     "output_type": "display_data"
    },
    {
     "data": {
      "text/plain": [
       "0      22.0\n",
       "1      38.0\n",
       "2      26.0\n",
       "3      35.0\n",
       "4      35.0\n",
       "       ... \n",
       "886    27.0\n",
       "887    19.0\n",
       "888     NaN\n",
       "889    26.0\n",
       "890    32.0\n",
       "Name: age, Length: 891, dtype: float64"
      ]
     },
     "metadata": {},
     "output_type": "display_data"
    },
    {
     "data": {
      "text/plain": [
       "0      1\n",
       "1      1\n",
       "2      0\n",
       "3      1\n",
       "4      0\n",
       "      ..\n",
       "886    0\n",
       "887    0\n",
       "888    1\n",
       "889    0\n",
       "890    0\n",
       "Name: sibsp, Length: 891, dtype: int64"
      ]
     },
     "metadata": {},
     "output_type": "display_data"
    },
    {
     "data": {
      "text/plain": [
       "0      0\n",
       "1      0\n",
       "2      0\n",
       "3      0\n",
       "4      0\n",
       "      ..\n",
       "886    0\n",
       "887    0\n",
       "888    2\n",
       "889    0\n",
       "890    0\n",
       "Name: parch, Length: 891, dtype: int64"
      ]
     },
     "metadata": {},
     "output_type": "display_data"
    },
    {
     "data": {
      "text/plain": [
       "0       7.2500\n",
       "1      71.2833\n",
       "2       7.9250\n",
       "3      53.1000\n",
       "4       8.0500\n",
       "        ...   \n",
       "886    13.0000\n",
       "887    30.0000\n",
       "888    23.4500\n",
       "889    30.0000\n",
       "890     7.7500\n",
       "Name: fare, Length: 891, dtype: float64"
      ]
     },
     "metadata": {},
     "output_type": "display_data"
    },
    {
     "data": {
      "text/plain": [
       "0      S\n",
       "1      C\n",
       "2      S\n",
       "3      S\n",
       "4      S\n",
       "      ..\n",
       "886    S\n",
       "887    S\n",
       "888    S\n",
       "889    C\n",
       "890    Q\n",
       "Name: embarked, Length: 891, dtype: object"
      ]
     },
     "metadata": {},
     "output_type": "display_data"
    },
    {
     "data": {
      "text/plain": [
       "0       Third\n",
       "1       First\n",
       "2       Third\n",
       "3       First\n",
       "4       Third\n",
       "        ...  \n",
       "886    Second\n",
       "887     First\n",
       "888     Third\n",
       "889     First\n",
       "890     Third\n",
       "Name: class, Length: 891, dtype: category\n",
       "Categories (3, object): ['First', 'Second', 'Third']"
      ]
     },
     "metadata": {},
     "output_type": "display_data"
    },
    {
     "data": {
      "text/plain": [
       "0        man\n",
       "1      woman\n",
       "2      woman\n",
       "3      woman\n",
       "4        man\n",
       "       ...  \n",
       "886      man\n",
       "887    woman\n",
       "888    woman\n",
       "889      man\n",
       "890      man\n",
       "Name: who, Length: 891, dtype: object"
      ]
     },
     "metadata": {},
     "output_type": "display_data"
    },
    {
     "data": {
      "text/plain": [
       "0       True\n",
       "1      False\n",
       "2      False\n",
       "3      False\n",
       "4       True\n",
       "       ...  \n",
       "886     True\n",
       "887    False\n",
       "888    False\n",
       "889     True\n",
       "890     True\n",
       "Name: adult_male, Length: 891, dtype: bool"
      ]
     },
     "metadata": {},
     "output_type": "display_data"
    },
    {
     "data": {
      "text/plain": [
       "0      NaN\n",
       "1        C\n",
       "2      NaN\n",
       "3        C\n",
       "4      NaN\n",
       "      ... \n",
       "886    NaN\n",
       "887      B\n",
       "888    NaN\n",
       "889      C\n",
       "890    NaN\n",
       "Name: deck, Length: 891, dtype: category\n",
       "Categories (7, object): ['A', 'B', 'C', 'D', 'E', 'F', 'G']"
      ]
     },
     "metadata": {},
     "output_type": "display_data"
    },
    {
     "data": {
      "text/plain": [
       "0      Southampton\n",
       "1        Cherbourg\n",
       "2      Southampton\n",
       "3      Southampton\n",
       "4      Southampton\n",
       "          ...     \n",
       "886    Southampton\n",
       "887    Southampton\n",
       "888    Southampton\n",
       "889      Cherbourg\n",
       "890     Queenstown\n",
       "Name: embark_town, Length: 891, dtype: object"
      ]
     },
     "metadata": {},
     "output_type": "display_data"
    },
    {
     "data": {
      "text/plain": [
       "0       no\n",
       "1      yes\n",
       "2      yes\n",
       "3      yes\n",
       "4       no\n",
       "      ... \n",
       "886     no\n",
       "887    yes\n",
       "888     no\n",
       "889    yes\n",
       "890     no\n",
       "Name: alive, Length: 891, dtype: object"
      ]
     },
     "metadata": {},
     "output_type": "display_data"
    },
    {
     "data": {
      "text/plain": [
       "0      False\n",
       "1      False\n",
       "2       True\n",
       "3      False\n",
       "4       True\n",
       "       ...  \n",
       "886     True\n",
       "887     True\n",
       "888    False\n",
       "889     True\n",
       "890     True\n",
       "Name: alone, Length: 891, dtype: bool"
      ]
     },
     "metadata": {},
     "output_type": "display_data"
    }
   ],
   "source": [
    "for c in data.columns:\n",
    "    display(data[c])"
   ]
  },
  {
   "cell_type": "code",
   "execution_count": null,
   "id": "4f449d75",
   "metadata": {},
   "outputs": [],
   "source": []
  },
  {
   "cell_type": "code",
   "execution_count": 11,
   "id": "9b251c56",
   "metadata": {},
   "outputs": [
    {
     "data": {
      "text/plain": [
       "0      0\n",
       "1      1\n",
       "2      1\n",
       "3      1\n",
       "4      0\n",
       "      ..\n",
       "886    0\n",
       "887    1\n",
       "888    0\n",
       "889    1\n",
       "890    0\n",
       "Name: survived, Length: 891, dtype: int64"
      ]
     },
     "execution_count": 11,
     "metadata": {},
     "output_type": "execute_result"
    }
   ],
   "source": [
    "data[data.columns[0]]"
   ]
  },
  {
   "cell_type": "code",
   "execution_count": 12,
   "id": "183fd815",
   "metadata": {},
   "outputs": [
    {
     "data": {
      "text/plain": [
       "Index(['survived', 'pclass', 'sex', 'age', 'sibsp', 'parch', 'fare',\n",
       "       'embarked', 'class', 'who', 'adult_male', 'deck', 'embark_town',\n",
       "       'alive', 'alone'],\n",
       "      dtype='object')"
      ]
     },
     "execution_count": 12,
     "metadata": {},
     "output_type": "execute_result"
    }
   ],
   "source": [
    "data.columns"
   ]
  },
  {
   "cell_type": "code",
   "execution_count": 13,
   "id": "5e63911f",
   "metadata": {},
   "outputs": [],
   "source": [
    "q = data.fare.quantile(0.95)"
   ]
  },
  {
   "cell_type": "code",
   "execution_count": 14,
   "id": "0c2ddd2c",
   "metadata": {},
   "outputs": [
    {
     "data": {
      "text/plain": [
       "45"
      ]
     },
     "execution_count": 14,
     "metadata": {},
     "output_type": "execute_result"
    }
   ],
   "source": [
    "(data.fare > q).sum()"
   ]
  },
  {
   "cell_type": "code",
   "execution_count": 15,
   "id": "0f14e2c2",
   "metadata": {},
   "outputs": [],
   "source": [
    "numeric = ['int16', 'int32', 'int64', 'float16', 'float32', 'float64']"
   ]
  },
  {
   "cell_type": "code",
   "execution_count": 16,
   "id": "c1f6be66",
   "metadata": {},
   "outputs": [
    {
     "data": {
      "text/plain": [
       "False"
      ]
     },
     "execution_count": 16,
     "metadata": {},
     "output_type": "execute_result"
    }
   ],
   "source": [
    "data['sex'].dtype in numeric"
   ]
  },
  {
   "cell_type": "code",
   "execution_count": 17,
   "id": "1ce6c72d",
   "metadata": {},
   "outputs": [
    {
     "data": {
      "text/plain": [
       "Index(['survived', 'pclass', 'age', 'sibsp', 'parch', 'fare'], dtype='object')"
      ]
     },
     "execution_count": 17,
     "metadata": {},
     "output_type": "execute_result"
    }
   ],
   "source": [
    "d = data.select_dtypes(include=np.number)\n",
    "d.columns"
   ]
  },
  {
   "cell_type": "code",
   "execution_count": 18,
   "id": "346bae6f",
   "metadata": {},
   "outputs": [],
   "source": [
    "a = np.number"
   ]
  },
  {
   "cell_type": "code",
   "execution_count": 19,
   "id": "e1d17a18",
   "metadata": {},
   "outputs": [
    {
     "data": {
      "text/plain": [
       "numpy.number"
      ]
     },
     "execution_count": 19,
     "metadata": {},
     "output_type": "execute_result"
    }
   ],
   "source": [
    "a"
   ]
  },
  {
   "cell_type": "code",
   "execution_count": 20,
   "id": "85401c75",
   "metadata": {},
   "outputs": [
    {
     "data": {
      "text/plain": [
       "False"
      ]
     },
     "execution_count": 20,
     "metadata": {},
     "output_type": "execute_result"
    }
   ],
   "source": [
    "'float' == a"
   ]
  },
  {
   "cell_type": "code",
   "execution_count": 21,
   "id": "4889d653",
   "metadata": {},
   "outputs": [],
   "source": [
    "def outlier(data):\n",
    "    if not typedef.is_data_frame(data):\n",
    "        return None\n",
    "    \n",
    "    print('local')\n",
    "\n",
    "    numeric = ['int16', 'int32', 'int64', 'float16', 'float32', 'float64']\n",
    "    res = []\n",
    "    for col in data.columns:\n",
    "        if data[col].dtype in numeric:\n",
    "            q = data[col].quantile(0.95)\n",
    "            res.append((data[col] > q).sum())\n",
    "        else:\n",
    "            res.append(0)\n",
    "    return pd.Series(res, index=data.columns)"
   ]
  },
  {
   "cell_type": "code",
   "execution_count": 22,
   "id": "c46fc213",
   "metadata": {},
   "outputs": [
    {
     "name": "stdout",
     "output_type": "stream",
     "text": [
      "local\n"
     ]
    },
    {
     "data": {
      "text/plain": [
       "survived        0\n",
       "pclass          0\n",
       "sex             0\n",
       "age            35\n",
       "sibsp          30\n",
       "parch          15\n",
       "fare           45\n",
       "embarked        0\n",
       "class           0\n",
       "who             0\n",
       "adult_male      0\n",
       "deck            0\n",
       "embark_town     0\n",
       "alive           0\n",
       "alone           0\n",
       "dtype: int64"
      ]
     },
     "execution_count": 22,
     "metadata": {},
     "output_type": "execute_result"
    }
   ],
   "source": [
    "r = outlier(data)\n",
    "r"
   ]
  },
  {
   "cell_type": "code",
   "execution_count": 23,
   "id": "14db72e1",
   "metadata": {},
   "outputs": [],
   "source": [
    "r = explore_warnings.zero_vals(data)"
   ]
  },
  {
   "cell_type": "code",
   "execution_count": 24,
   "id": "e921935b",
   "metadata": {},
   "outputs": [
    {
     "data": {
      "text/plain": [
       "survived       549\n",
       "pclass           0\n",
       "sex              0\n",
       "age              0\n",
       "sibsp          608\n",
       "parch          678\n",
       "fare            15\n",
       "embarked         0\n",
       "class            0\n",
       "who              0\n",
       "adult_male     354\n",
       "deck             0\n",
       "embark_town      0\n",
       "alive            0\n",
       "alone          354\n",
       "dtype: int64"
      ]
     },
     "execution_count": 24,
     "metadata": {},
     "output_type": "execute_result"
    }
   ],
   "source": [
    "r"
   ]
  },
  {
   "cell_type": "code",
   "execution_count": null,
   "id": "28be81d1",
   "metadata": {},
   "outputs": [],
   "source": []
  }
 ],
 "metadata": {
  "kernelspec": {
   "display_name": "Python 3 (ipykernel)",
   "language": "python",
   "name": "python3"
  },
  "language_info": {
   "codemirror_mode": {
    "name": "ipython",
    "version": 3
   },
   "file_extension": ".py",
   "mimetype": "text/x-python",
   "name": "python",
   "nbconvert_exporter": "python",
   "pygments_lexer": "ipython3",
   "version": "3.8.3"
  }
 },
 "nbformat": 4,
 "nbformat_minor": 5
}
